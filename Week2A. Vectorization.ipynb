{
 "cells": [
  {
   "cell_type": "code",
   "execution_count": 3,
   "metadata": {},
   "outputs": [],
   "source": [
    "import numpy as np\n",
    "import time"
   ]
  },
  {
   "cell_type": "code",
   "execution_count": 8,
   "metadata": {},
   "outputs": [
    {
     "name": "stdout",
     "output_type": "stream",
     "text": [
      "c 250248.9116557899\n",
      "Vectorized version:1.3203620910644531ms\n",
      "c 250248.91165579864\n",
      "For Loop: 603.0945777893066ms\n"
     ]
    }
   ],
   "source": [
    "a = np.random.rand(1000000)\n",
    "b = np.random.rand(1000000)\n",
    "\n",
    "tic = time.time()\n",
    "c = np.dot(a,b)\n",
    "toc = time.time()\n",
    "\n",
    "print('c',c)\n",
    "print('Vectorized version:'+str(1000*(toc-tic))+'ms')\n",
    "\n",
    "c = 0\n",
    "tic = time.time()\n",
    "for i in range (1000000):\n",
    "    c+= a[i]*b[i]\n",
    "toc = time.time()\n",
    "\n",
    "print('c',c)\n",
    "print('For Loop:',str(1000*(toc-tic))+'ms')"
   ]
  },
  {
   "cell_type": "code",
   "execution_count": 2,
   "metadata": {},
   "outputs": [
    {
     "name": "stdout",
     "output_type": "stream",
     "text": [
      "A:\n",
      " [[ 56.    0.    4.4  68. ]\n",
      " [  1.2 104.   52.    8. ]\n",
      " [  1.8 135.   99.    0.9]]\n",
      "\n",
      "cal [ 59.  239.  155.4  76.9] \n",
      "\n",
      "[[94.91525424  0.          2.83140283 88.42652796]\n",
      " [ 2.03389831 43.51464435 33.46203346 10.40312094]\n",
      " [ 3.05084746 56.48535565 63.70656371  1.17035111]]\n"
     ]
    }
   ],
   "source": [
    "A = np.array([[56, 0, 4.4, 68],[1.2,104,52,8],[1.8, 135, 99, 0.9]])\n",
    "print ('A:\\n',A)\n",
    "\n",
    "cal = A.sum(axis=0)\n",
    "print ('\\ncal',cal, '\\n') \n",
    "\n",
    "percentage = 100*A/cal.reshape(1,4)\n",
    "print (percentage)"
   ]
  },
  {
   "cell_type": "markdown",
   "metadata": {
    "heading_collapsed": true
   },
   "source": [
    "## BroadCasting"
   ]
  },
  {
   "cell_type": "code",
   "execution_count": 10,
   "metadata": {
    "hidden": true
   },
   "outputs": [
    {
     "name": "stdout",
     "output_type": "stream",
     "text": [
      "B [[1]\n",
      " [2]\n",
      " [3]\n",
      " [4]]\n",
      "\n",
      "C [[101]\n",
      " [102]\n",
      " [103]\n",
      " [104]]\n",
      "\n",
      "B [[1 2 3]\n",
      " [4 5 6]]\n",
      "\n",
      "C [[101 202 303]\n",
      " [104 205 306]]\n"
     ]
    }
   ],
   "source": [
    "B = np.array([1,2,3,4]).reshape(4,1)\n",
    "print ('B',B)\n",
    "C = B + 100\n",
    "print ('\\nC',C)\n",
    "\n",
    "B = np.array([[1,2,3],[4,5,6]])\n",
    "print ('\\nB',B)\n",
    "C = B + np.array([100, 200, 300])\n",
    "print ('\\nC',C)\n",
    "\n"
   ]
  },
  {
   "cell_type": "markdown",
   "metadata": {},
   "source": [
    "## Python-Numpy Vectors"
   ]
  },
  {
   "cell_type": "code",
   "execution_count": 23,
   "metadata": {},
   "outputs": [],
   "source": [
    "b = np.random.randn(5,1)\n",
    "assert(b.shape == (5,1))"
   ]
  },
  {
   "cell_type": "code",
   "execution_count": 24,
   "metadata": {},
   "outputs": [
    {
     "name": "stdout",
     "output_type": "stream",
     "text": [
      "a [ 0.92477092  2.48845767 -2.71669732  1.50273627  0.09749212] a.shape (5,)\n",
      "b [[ 0.27970721]\n",
      " [ 1.85779848]\n",
      " [-0.65420004]\n",
      " [ 1.84693778]\n",
      " [-1.06932263]] b.shape (5, 1)\n",
      "\n",
      "c [[ 0.07823613  0.51963964 -0.18298447  0.51660182 -0.29909725]\n",
      " [ 0.51963964  3.4514152  -1.21537184  3.43123821 -1.98658596]\n",
      " [-0.18298447 -1.21537184  0.42797769 -1.20826676  0.6995509 ]\n",
      " [ 0.51660182  3.43123821 -1.20826676  3.41117916 -1.97497236]\n",
      " [-0.29909725 -1.98658596  0.6995509  -1.97497236  1.14345088]] (5, 5)\n"
     ]
    }
   ],
   "source": [
    "a = np.random.randn(5)\n",
    "print ('a',a,'a.shape',a.shape)\n",
    "b = np.random.randn(5,1)\n",
    "\n",
    "print ('b',b,'b.shape',b.shape)\n",
    "\n",
    "c = np.dot(b,b.T)\n",
    "print('\\nc',c,c.shape)\n"
   ]
  },
  {
   "cell_type": "code",
   "execution_count": 1,
   "metadata": {},
   "outputs": [
    {
     "ename": "ValueError",
     "evalue": "operands could not be broadcast together with shapes (4,3) (3,2) ",
     "output_type": "error",
     "traceback": [
      "\u001b[0;31m---------------------------------------------------------------------------\u001b[0m",
      "\u001b[0;31mValueError\u001b[0m                                Traceback (most recent call last)",
      "\u001b[0;32m<ipython-input-1-20aba40ca292>\u001b[0m in \u001b[0;36m<module>\u001b[0;34m()\u001b[0m\n\u001b[1;32m      1\u001b[0m \u001b[0ma\u001b[0m \u001b[0;34m=\u001b[0m \u001b[0mnp\u001b[0m\u001b[0;34m.\u001b[0m\u001b[0mrandom\u001b[0m\u001b[0;34m.\u001b[0m\u001b[0mrandn\u001b[0m\u001b[0;34m(\u001b[0m\u001b[0;36m4\u001b[0m\u001b[0;34m,\u001b[0m \u001b[0;36m3\u001b[0m\u001b[0;34m)\u001b[0m \u001b[0;31m# a.shape = (4, 3)\u001b[0m\u001b[0;34m\u001b[0m\u001b[0m\n\u001b[1;32m      2\u001b[0m \u001b[0mb\u001b[0m \u001b[0;34m=\u001b[0m \u001b[0mnp\u001b[0m\u001b[0;34m.\u001b[0m\u001b[0mrandom\u001b[0m\u001b[0;34m.\u001b[0m\u001b[0mrandn\u001b[0m\u001b[0;34m(\u001b[0m\u001b[0;36m3\u001b[0m\u001b[0;34m,\u001b[0m \u001b[0;36m2\u001b[0m\u001b[0;34m)\u001b[0m \u001b[0;31m# b.shape = (3, 2)\u001b[0m\u001b[0;34m\u001b[0m\u001b[0m\n\u001b[0;32m----> 3\u001b[0;31m \u001b[0mc\u001b[0m \u001b[0;34m=\u001b[0m \u001b[0ma\u001b[0m\u001b[0;34m*\u001b[0m\u001b[0mb\u001b[0m\u001b[0;34m\u001b[0m\u001b[0m\n\u001b[0m",
      "\u001b[0;31mValueError\u001b[0m: operands could not be broadcast together with shapes (4,3) (3,2) "
     ]
    }
   ],
   "source": [
    "a = np.random.randn(4, 3) # a.shape = (4, 3)\n",
    "b = np.random.randn(3, 2) # b.shape = (3, 2)\n",
    "c = a*b"
   ]
  },
  {
   "cell_type": "code",
   "execution_count": 3,
   "metadata": {},
   "outputs": [
    {
     "name": "stdout",
     "output_type": "stream",
     "text": [
      "[[ 1.78374703  1.41200898 -1.26369988]\n",
      " [ 1.44276221 -1.09211045  3.04612762]\n",
      " [-1.57336002  1.22125992 -0.01483509]] (3, 3)\n"
     ]
    }
   ],
   "source": [
    "a = np.random.randn(3, 3)\n",
    "b = np.random.randn(3, 1)\n",
    "c = a*b\n",
    "print(c,c.shape)"
   ]
  },
  {
   "cell_type": "code",
   "execution_count": 5,
   "metadata": {},
   "outputs": [
    {
     "name": "stdout",
     "output_type": "stream",
     "text": [
      "A [[ 0.67013028  2.10136776  0.46407803]\n",
      " [ 0.54418909  0.66065637  0.80114892]\n",
      " [-1.98911489 -0.65730103  0.27124281]\n",
      " [-0.04736538 -0.94999051  1.35127109]]\n",
      "B.shape (4, 1)\n"
     ]
    }
   ],
   "source": [
    "A = np.random.randn(4,3)\n",
    "print('A',A)\n",
    "B = np.sum(A, axis = 1, keepdims = True)\n",
    "print('B.shape',B.shape)"
   ]
  }
 ],
 "metadata": {
  "kernelspec": {
   "display_name": "Python 3",
   "language": "python",
   "name": "python3"
  },
  "language_info": {
   "codemirror_mode": {
    "name": "ipython",
    "version": 3
   },
   "file_extension": ".py",
   "mimetype": "text/x-python",
   "name": "python",
   "nbconvert_exporter": "python",
   "pygments_lexer": "ipython3",
   "version": "3.5.2"
  },
  "varInspector": {
   "cols": {
    "lenName": 16,
    "lenType": 16,
    "lenVar": 40
   },
   "kernels_config": {
    "python": {
     "delete_cmd_postfix": "",
     "delete_cmd_prefix": "del ",
     "library": "var_list.py",
     "varRefreshCmd": "print(var_dic_list())"
    },
    "r": {
     "delete_cmd_postfix": ") ",
     "delete_cmd_prefix": "rm(",
     "library": "var_list.r",
     "varRefreshCmd": "cat(var_dic_list()) "
    }
   },
   "types_to_exclude": [
    "module",
    "function",
    "builtin_function_or_method",
    "instance",
    "_Feature"
   ],
   "window_display": false
  }
 },
 "nbformat": 4,
 "nbformat_minor": 2
}
